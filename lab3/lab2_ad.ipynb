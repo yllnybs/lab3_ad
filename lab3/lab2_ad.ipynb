{
 "cells": [
  {
   "cell_type": "code",
   "execution_count": 2,
   "id": "32257f39-27b6-408b-a645-87d414222e9e",
   "metadata": {
    "scrolled": true
   },
   "outputs": [
    {
     "name": "stdout",
     "output_type": "stream",
     "text": [
      "Requirement already satisfied: seaborn in /opt/anaconda3/lib/python3.12/site-packages (0.13.2)\n",
      "Requirement already satisfied: numpy!=1.24.0,>=1.20 in /opt/anaconda3/lib/python3.12/site-packages (from seaborn) (1.26.4)\n",
      "Requirement already satisfied: pandas>=1.2 in /opt/anaconda3/lib/python3.12/site-packages (from seaborn) (2.2.2)\n",
      "Requirement already satisfied: matplotlib!=3.6.1,>=3.4 in /opt/anaconda3/lib/python3.12/site-packages (from seaborn) (3.9.2)\n",
      "Requirement already satisfied: contourpy>=1.0.1 in /opt/anaconda3/lib/python3.12/site-packages (from matplotlib!=3.6.1,>=3.4->seaborn) (1.2.0)\n",
      "Requirement already satisfied: cycler>=0.10 in /opt/anaconda3/lib/python3.12/site-packages (from matplotlib!=3.6.1,>=3.4->seaborn) (0.11.0)\n",
      "Requirement already satisfied: fonttools>=4.22.0 in /opt/anaconda3/lib/python3.12/site-packages (from matplotlib!=3.6.1,>=3.4->seaborn) (4.51.0)\n",
      "Requirement already satisfied: kiwisolver>=1.3.1 in /opt/anaconda3/lib/python3.12/site-packages (from matplotlib!=3.6.1,>=3.4->seaborn) (1.4.4)\n",
      "Requirement already satisfied: packaging>=20.0 in /opt/anaconda3/lib/python3.12/site-packages (from matplotlib!=3.6.1,>=3.4->seaborn) (24.1)\n",
      "Requirement already satisfied: pillow>=8 in /opt/anaconda3/lib/python3.12/site-packages (from matplotlib!=3.6.1,>=3.4->seaborn) (10.4.0)\n",
      "Requirement already satisfied: pyparsing>=2.3.1 in /opt/anaconda3/lib/python3.12/site-packages (from matplotlib!=3.6.1,>=3.4->seaborn) (3.1.2)\n",
      "Requirement already satisfied: python-dateutil>=2.7 in /opt/anaconda3/lib/python3.12/site-packages (from matplotlib!=3.6.1,>=3.4->seaborn) (2.9.0.post0)\n",
      "Requirement already satisfied: pytz>=2020.1 in /opt/anaconda3/lib/python3.12/site-packages (from pandas>=1.2->seaborn) (2024.1)\n",
      "Requirement already satisfied: tzdata>=2022.7 in /opt/anaconda3/lib/python3.12/site-packages (from pandas>=1.2->seaborn) (2023.3)\n",
      "Requirement already satisfied: six>=1.5 in /opt/anaconda3/lib/python3.12/site-packages (from python-dateutil>=2.7->matplotlib!=3.6.1,>=3.4->seaborn) (1.16.0)\n"
     ]
    }
   ],
   "source": [
    "!pip install seaborn"
   ]
  },
  {
   "cell_type": "code",
   "execution_count": 3,
   "id": "e4811a59-e609-40bf-9608-c0222deeb175",
   "metadata": {},
   "outputs": [
    {
     "ename": "KeyboardInterrupt",
     "evalue": "",
     "output_type": "error",
     "traceback": [
      "\u001b[31m---------------------------------------------------------------------------\u001b[39m",
      "\u001b[31mKeyboardInterrupt\u001b[39m                         Traceback (most recent call last)",
      "\u001b[36mCell\u001b[39m\u001b[36m \u001b[39m\u001b[32mIn[3]\u001b[39m\u001b[32m, line 3\u001b[39m\n\u001b[32m      1\u001b[39m \u001b[38;5;28;01mimport\u001b[39;00m\u001b[38;5;250m \u001b[39m\u001b[34;01mpandas\u001b[39;00m\u001b[38;5;250m \u001b[39m\u001b[38;5;28;01mas\u001b[39;00m\u001b[38;5;250m \u001b[39m\u001b[34;01mpd\u001b[39;00m\n\u001b[32m      2\u001b[39m \u001b[38;5;28;01mimport\u001b[39;00m\u001b[38;5;250m \u001b[39m\u001b[34;01mnumpy\u001b[39;00m\u001b[38;5;250m \u001b[39m\u001b[38;5;28;01mas\u001b[39;00m\u001b[38;5;250m \u001b[39m\u001b[34;01mnp\u001b[39;00m\n\u001b[32m----> \u001b[39m\u001b[32m3\u001b[39m \u001b[38;5;28;01mimport\u001b[39;00m\u001b[38;5;250m \u001b[39m\u001b[34;01mmatplotlib\u001b[39;00m\u001b[34;01m.\u001b[39;00m\u001b[34;01mpyplot\u001b[39;00m\u001b[38;5;250m \u001b[39m\u001b[38;5;28;01mas\u001b[39;00m\u001b[38;5;250m \u001b[39m\u001b[34;01mplt\u001b[39;00m\n\u001b[32m      4\u001b[39m \u001b[38;5;28;01mimport\u001b[39;00m\u001b[38;5;250m \u001b[39m\u001b[34;01mrequests\u001b[39;00m\n\u001b[32m      5\u001b[39m \u001b[38;5;28;01mimport\u001b[39;00m\u001b[38;5;250m \u001b[39m\u001b[34;01mos\u001b[39;00m\n",
      "\u001b[36mFile \u001b[39m\u001b[32m~/vhi_env/lib/python3.11/site-packages/matplotlib/__init__.py:161\u001b[39m\n\u001b[32m    157\u001b[39m \u001b[38;5;28;01mfrom\u001b[39;00m\u001b[38;5;250m \u001b[39m\u001b[34;01mpackaging\u001b[39;00m\u001b[34;01m.\u001b[39;00m\u001b[34;01mversion\u001b[39;00m\u001b[38;5;250m \u001b[39m\u001b[38;5;28;01mimport\u001b[39;00m parse \u001b[38;5;28;01mas\u001b[39;00m parse_version\n\u001b[32m    159\u001b[39m \u001b[38;5;66;03m# cbook must import matplotlib only within function\u001b[39;00m\n\u001b[32m    160\u001b[39m \u001b[38;5;66;03m# definitions, so it is safe to import from it here.\u001b[39;00m\n\u001b[32m--> \u001b[39m\u001b[32m161\u001b[39m \u001b[38;5;28;01mfrom\u001b[39;00m\u001b[38;5;250m \u001b[39m\u001b[34;01m.\u001b[39;00m\u001b[38;5;250m \u001b[39m\u001b[38;5;28;01mimport\u001b[39;00m _api, _version, cbook, _docstring, rcsetup\n\u001b[32m    162\u001b[39m \u001b[38;5;28;01mfrom\u001b[39;00m\u001b[38;5;250m \u001b[39m\u001b[34;01mmatplotlib\u001b[39;00m\u001b[34;01m.\u001b[39;00m\u001b[34;01m_api\u001b[39;00m\u001b[38;5;250m \u001b[39m\u001b[38;5;28;01mimport\u001b[39;00m MatplotlibDeprecationWarning\n\u001b[32m    163\u001b[39m \u001b[38;5;28;01mfrom\u001b[39;00m\u001b[38;5;250m \u001b[39m\u001b[34;01mmatplotlib\u001b[39;00m\u001b[34;01m.\u001b[39;00m\u001b[34;01mrcsetup\u001b[39;00m\u001b[38;5;250m \u001b[39m\u001b[38;5;28;01mimport\u001b[39;00m cycler  \u001b[38;5;66;03m# noqa: F401\u001b[39;00m\n",
      "\u001b[36mFile \u001b[39m\u001b[32m~/vhi_env/lib/python3.11/site-packages/matplotlib/rcsetup.py:28\u001b[39m\n\u001b[32m     26\u001b[39m \u001b[38;5;28;01mfrom\u001b[39;00m\u001b[38;5;250m \u001b[39m\u001b[34;01mmatplotlib\u001b[39;00m\u001b[34;01m.\u001b[39;00m\u001b[34;01mbackends\u001b[39;00m\u001b[38;5;250m \u001b[39m\u001b[38;5;28;01mimport\u001b[39;00m BackendFilter, backend_registry\n\u001b[32m     27\u001b[39m \u001b[38;5;28;01mfrom\u001b[39;00m\u001b[38;5;250m \u001b[39m\u001b[34;01mmatplotlib\u001b[39;00m\u001b[34;01m.\u001b[39;00m\u001b[34;01mcbook\u001b[39;00m\u001b[38;5;250m \u001b[39m\u001b[38;5;28;01mimport\u001b[39;00m ls_mapper\n\u001b[32m---> \u001b[39m\u001b[32m28\u001b[39m \u001b[38;5;28;01mfrom\u001b[39;00m\u001b[38;5;250m \u001b[39m\u001b[34;01mmatplotlib\u001b[39;00m\u001b[34;01m.\u001b[39;00m\u001b[34;01mcolors\u001b[39;00m\u001b[38;5;250m \u001b[39m\u001b[38;5;28;01mimport\u001b[39;00m Colormap, is_color_like\n\u001b[32m     29\u001b[39m \u001b[38;5;28;01mfrom\u001b[39;00m\u001b[38;5;250m \u001b[39m\u001b[34;01mmatplotlib\u001b[39;00m\u001b[34;01m.\u001b[39;00m\u001b[34;01m_fontconfig_pattern\u001b[39;00m\u001b[38;5;250m \u001b[39m\u001b[38;5;28;01mimport\u001b[39;00m parse_fontconfig_pattern\n\u001b[32m     30\u001b[39m \u001b[38;5;28;01mfrom\u001b[39;00m\u001b[38;5;250m \u001b[39m\u001b[34;01mmatplotlib\u001b[39;00m\u001b[34;01m.\u001b[39;00m\u001b[34;01m_enums\u001b[39;00m\u001b[38;5;250m \u001b[39m\u001b[38;5;28;01mimport\u001b[39;00m JoinStyle, CapStyle\n",
      "\u001b[36mFile \u001b[39m\u001b[32m~/vhi_env/lib/python3.11/site-packages/matplotlib/colors.py:58\u001b[39m\n\u001b[32m     56\u001b[39m \u001b[38;5;28;01mimport\u001b[39;00m\u001b[38;5;250m \u001b[39m\u001b[34;01mnumpy\u001b[39;00m\u001b[38;5;250m \u001b[39m\u001b[38;5;28;01mas\u001b[39;00m\u001b[38;5;250m \u001b[39m\u001b[34;01mnp\u001b[39;00m\n\u001b[32m     57\u001b[39m \u001b[38;5;28;01mfrom\u001b[39;00m\u001b[38;5;250m \u001b[39m\u001b[34;01mmatplotlib\u001b[39;00m\u001b[38;5;250m \u001b[39m\u001b[38;5;28;01mimport\u001b[39;00m _api, _cm, cbook, scale, _image\n\u001b[32m---> \u001b[39m\u001b[32m58\u001b[39m \u001b[38;5;28;01mfrom\u001b[39;00m\u001b[38;5;250m \u001b[39m\u001b[34;01m.\u001b[39;00m\u001b[34;01m_color_data\u001b[39;00m\u001b[38;5;250m \u001b[39m\u001b[38;5;28;01mimport\u001b[39;00m BASE_COLORS, TABLEAU_COLORS, CSS4_COLORS, XKCD_COLORS\n\u001b[32m     61\u001b[39m \u001b[38;5;28;01mclass\u001b[39;00m\u001b[38;5;250m \u001b[39m\u001b[34;01m_ColorMapping\u001b[39;00m(\u001b[38;5;28mdict\u001b[39m):\n\u001b[32m     62\u001b[39m     \u001b[38;5;28;01mdef\u001b[39;00m\u001b[38;5;250m \u001b[39m\u001b[34m__init__\u001b[39m(\u001b[38;5;28mself\u001b[39m, mapping):\n",
      "\u001b[36mFile \u001b[39m\u001b[32m<frozen importlib._bootstrap>:1178\u001b[39m, in \u001b[36m_find_and_load\u001b[39m\u001b[34m(name, import_)\u001b[39m\n",
      "\u001b[36mFile \u001b[39m\u001b[32m<frozen importlib._bootstrap>:1149\u001b[39m, in \u001b[36m_find_and_load_unlocked\u001b[39m\u001b[34m(name, import_)\u001b[39m\n",
      "\u001b[36mFile \u001b[39m\u001b[32m<frozen importlib._bootstrap>:690\u001b[39m, in \u001b[36m_load_unlocked\u001b[39m\u001b[34m(spec)\u001b[39m\n",
      "\u001b[36mFile \u001b[39m\u001b[32m<frozen importlib._bootstrap_external>:936\u001b[39m, in \u001b[36mexec_module\u001b[39m\u001b[34m(self, module)\u001b[39m\n",
      "\u001b[36mFile \u001b[39m\u001b[32m<frozen importlib._bootstrap_external>:1032\u001b[39m, in \u001b[36mget_code\u001b[39m\u001b[34m(self, fullname)\u001b[39m\n",
      "\u001b[36mFile \u001b[39m\u001b[32m<frozen importlib._bootstrap_external>:1130\u001b[39m, in \u001b[36mget_data\u001b[39m\u001b[34m(self, path)\u001b[39m\n",
      "\u001b[31mKeyboardInterrupt\u001b[39m: "
     ]
    }
   ],
   "source": [
    "import pandas as pd\n",
    "import numpy as np\n",
    "import matplotlib.pyplot as plt\n",
    "import requests\n",
    "import os\n",
    "import re\n",
    "\n",
    "print(\"Всі бібліотеки працюють!\")"
   ]
  },
  {
   "cell_type": "code",
   "execution_count": null,
   "id": "c3190ffa-127f-4d6a-b1db-fb48a2b5bb20",
   "metadata": {
    "scrolled": true
   },
   "outputs": [],
   "source": [
    "#1\n",
    "import urllib.request\n",
    "from datetime import datetime\n",
    "\n",
    "regions = {\n",
    "    1: \"Вінницька\", 2: \"Волинська\", 3: \"Дніпропетровська\", 4: \"Донецька\", \n",
    "    5: \"Житомирська\", 6: \"Закарпатська\", 7: \"Запорізька\", 8: \"Івано-Франківська\", \n",
    "    9: \"Київська\", 10: \"Кіровоградська\", 11: \"Луганська\", 12: \"Львівська\", \n",
    "    13: \"Миколаївська\", 14: \"Одеська\", 15: \"Полтавська\", 16: \"Рівненська\", \n",
    "    17: \"Сумська\", 18: \"Тернопільська\", 19: \"Харківська\", 20: \"Херсонська\", \n",
    "    21: \"Хмельницька\", 22: \"Черкаська\", 23: \"Чернівецька\", 24: \"Чернігівська\", \n",
    "    25: \"Республіка Крим\"\n",
    "}\n",
    "\n",
    "for region_id, region_name in regions.items():\n",
    "    url = f\"https://www.star.nesdis.noaa.gov/smcd/emb/vci/VH/get_TS_admin.php?country=UKR&provinceID={region_id}&year1=1981&year2=2024&type=Mean\"\n",
    "    \n",
    "    filename = f\"VHI_{region_name}_{datetime.now().strftime('%Y%m%d_%H%M%S')}.csv\"\n",
    "    \n",
    "    response = urllib.request.urlopen(url)\n",
    "    with open(filename, 'wb') as file:\n",
    "        file.write(response.read())\n",
    "\n",
    "    print(f\"Завантажено: {filename}\")"
   ]
  },
  {
   "cell_type": "code",
   "execution_count": null,
   "id": "755b7d03-dfb8-49b5-bb85-0d00ef3319b5",
   "metadata": {},
   "outputs": [],
   "source": [
    "#2\n",
    "filename = \"VHI_Черкаська_20250410_151141.csv\"\n",
    "df = pd.read_csv(filename, index_col=False, header=1)\n",
    "\n",
    "print(df.head())"
   ]
  },
  {
   "cell_type": "code",
   "execution_count": null,
   "id": "2c04fe9c-ca38-4d44-b709-3fb0a9d1bba0",
   "metadata": {},
   "outputs": [],
   "source": [
    "# 3, Переконуємося, що назви колонок коректні\n",
    "df.columns = df.columns.str.replace(r'<.*?>', '', regex=True).str.strip()\n",
    "\n",
    "if \"VHI\" in df.columns:\n",
    "    print(\"Колонка VHI є!\")\n",
    "    df_cleaned = df[df[\"VHI\"] != -1].copy()  # .copy() уникає Warning\n",
    "\n",
    "    print(df[df[\"year\"] == 1982][[\"year\", \"VHI\"]].head(10))\n",
    "    df_cleaned.loc[:, \"region\"] = \"Черкаська\"\n",
    "\n",
    "    print(df_cleaned.head())\n",
    "else:\n",
    "    print(\"Помилка: Колонка VHI відсутня!\")\n"
   ]
  },
  {
   "cell_type": "code",
   "execution_count": null,
   "id": "ddcd77bb-314f-47aa-a322-fd2e3db2ef5d",
   "metadata": {},
   "outputs": [],
   "source": [
    "# 4, Вибираємо рік для аналізу\n",
    "year_to_analyze = 1982\n",
    "df_year = df_cleaned[df_cleaned[\"year\"] == year_to_analyze]\n",
    "\n",
    "print(df_year.head())\n",
    "if df_year.empty:\n",
    "    print(\"Дані за цей рік відсутні!\")\n",
    "else:\n",
    "    mean_vhi = df_year[\"VHI\"].mean()\n",
    "    min_vhi = df_year[\"VHI\"].min()\n",
    "    max_vhi = df_year[\"VHI\"].max()\n",
    "\n",
    "    min_vhi_week = df_year[df_year[\"VHI\"] == min_vhi][\"week\"].values[0]\n",
    "    max_vhi_week = df_year[df_year[\"VHI\"] == max_vhi][\"week\"].values[0]\n",
    "\n",
    "    print(f\"Аналіз року {year_to_analyze}\")\n",
    "    print(f\"Середнє VHI: {mean_vhi:.2f}\")\n",
    "    print(f\"Мінімальне VHI: {min_vhi:.2f} (Тиждень {min_vhi_week})\")\n",
    "    print(f\"Максимальне VHI: {max_vhi:.2f} (Тиждень {max_vhi_week})\")\n"
   ]
  },
  {
   "cell_type": "code",
   "execution_count": null,
   "id": "722e3154-c3e9-4c37-b8cc-714bfe123dc3",
   "metadata": {},
   "outputs": [],
   "source": [
    "#5\n",
    "import seaborn as sns\n",
    "import matplotlib.pyplot as plt\n",
    "\n",
    "year_to_analyze = 1982\n",
    "df_year = df_cleaned[df_cleaned[\"year\"] == year_to_analyze]\n",
    "\n",
    "if df_year.empty:\n",
    "    print(f\"Дані за {year_to_analyze} рік відсутні!\")\n",
    "else:\n",
    "    sns.set_theme(style=\"whitegrid\")\n",
    "    plt.figure(figsize=(12, 6))\n",
    "    sns.lineplot(data=df_year, x=\"week\", y=\"VHI\", marker=\"o\", linewidth=2.5, color=\"blue\")\n",
    "\n",
    "    plt.title(f\"Динаміка VHI за {year_to_analyze} рік\", fontsize=14)\n",
    "    plt.xlabel(\"Тиждень\", fontsize=12)\n",
    "    plt.ylabel(\"VHI\", fontsize=12)\n",
    "    plt.xticks(range(1, 53, 2))  # Робимо підписи тижнів кожні 2 тижні\n",
    "    plt.grid(True, linestyle=\"--\", alpha=0.6)\n",
    "    \n",
    "    plt.show()"
   ]
  },
  {
   "cell_type": "code",
   "execution_count": null,
   "id": "ef90ea8e-e71a-477e-af86-5a31829835a0",
   "metadata": {},
   "outputs": [],
   "source": [
    "# 6, Параметри вибірки\n",
    "start_year = 1982\n",
    "end_year = 2024\n",
    "selected_regions = [\"Київська\", \"Львівська\", \"Одеська\"]\n",
    "\n",
    "csv_files = [f for f in os.listdir() if f.endswith('.csv') and f.startswith(\"VHI_\")]\n",
    "\n",
    "dfs = []\n",
    "for file in csv_files:\n",
    "    try:\n",
    "        df = pd.read_csv(file, index_col=False, header=1)\n",
    "        if df.empty or df.shape[1] < 5:\n",
    "            print(f\"Пропущено файл {file}\")\n",
    "            continue\n",
    "        region_match = re.search(r'VHI_(.*?)_', file)\n",
    "        region_name = region_match.group(1) if region_match else \"Невідомо\"\n",
    "        df[\"region\"] = region_name\n",
    "        dfs.append(df)\n",
    "    except Exception as e:\n",
    "        print(f\"Помилка при зчитуванні файлу {file}: {e}\")\n",
    "\n",
    "df_cleaned = pd.concat(dfs, ignore_index=True)\n",
    "df_cleaned = df_cleaned.drop_duplicates()\n",
    "\n",
    "df_cleaned = df_cleaned.loc[:, ~df_cleaned.columns.str.contains('^Unnamed')]\n",
    "df_cleaned = df_cleaned.dropna(how='all')\n",
    "\n",
    "df_cleaned.columns = df_cleaned.columns.str.replace(r'<.*?>', '', regex=True).str.strip()\n",
    "df_cleaned[\"year\"] = df_cleaned[\"year\"].astype(str).str.extract(r'(\\d{4})')\n",
    "df_cleaned[\"year\"] = pd.to_numeric(df_cleaned[\"year\"], errors=\"coerce\")\n",
    "df_cleaned = df_cleaned.dropna(subset=[\"year\"])\n",
    "df_cleaned[\"year\"] = df_cleaned[\"year\"].astype(int)\n",
    "df_cleaned[\"region\"] = df_cleaned[\"region\"].astype(str).str.replace(r'<.*?>', '', regex=True).str.strip()\n",
    "\n",
    "df_selected = df_cleaned[\n",
    "    (df_cleaned[\"year\"] >= start_year) & \n",
    "    (df_cleaned[\"year\"] <= end_year) & \n",
    "    (df_cleaned[\"region\"].isin(selected_regions))\n",
    "]\n",
    "\n",
    "print(f\"\\nВибірка VHI за роки {start_year}-{end_year} для областей: {', '.join(selected_regions)}\")\n",
    "print(df_selected.head(10))\n",
    "\n",
    "df_selected.to_csv(\"VHI_selected_years_regions.csv\", index=False, encoding=\"utf-8-sig\")\n",
    "print(\"\\nДані збережено у файл VHI_selected_years_regions.csv\")"
   ]
  },
  {
   "cell_type": "code",
   "execution_count": null,
   "id": "b1bd6657-654b-478e-99e6-995f48301b3b",
   "metadata": {},
   "outputs": [],
   "source": [
    "# 7, Параметри аналізу\n",
    "drought_threshold = 15  # Межа для посухи (VHI ≤ 15)\n",
    "affected_threshold = 5  # Мінімальна кількість областей (20% від 25)\n",
    "\n",
    "df_cleaned[\"region\"] = df_cleaned[\"region\"].astype(str).str.strip()\n",
    "drought_data = df_cleaned[df_cleaned[\"VHI\"] <= 15]\n",
    "\n",
    "drought_summary = drought_data.groupby(\"year\")[\"region\"].nunique().reset_index()\n",
    "drought_summary.columns = [\"year\", \"affected_regions\"]\n",
    "\n",
    "print(drought_summary)\n",
    "\n",
    "print(\"Роки з ≥5 областями з посухою:\")\n",
    "print(drought_summary[drought_summary[\"affected_regions\"] >= 5])\n",
    "severe_droughts = drought_summary[drought_summary[\"affected_regions\"] >= affected_threshold]\n",
    "\n",
    "\n",
    "print(\"Роки з екстремальними посухами (VHI ≤ 15, постраждало ≥5 областей):\")\n",
    "print(severe_droughts)\n",
    "\n",
    "for year in severe_droughts[\"year\"]:\n",
    "    regions_affected = drought_data[drought_data[\"year\"] == year][\"region\"].unique()\n",
    "    print(f\"{year}: {len(regions_affected)} областей під посухою - {', '.join(regions_affected)}\")\n",
    "\n",
    "severe_droughts.to_csv(\"VHI_severe_droughts.csv\", index=False, encoding=\"utf-8-sig\")\n",
    "print(\"Дані збережено у VHI_severe_droughts.csv\")\n"
   ]
  },
  {
   "cell_type": "code",
   "execution_count": null,
   "id": "b7a909fc-386c-4214-8289-72c554056963",
   "metadata": {},
   "outputs": [],
   "source": []
  }
 ],
 "metadata": {
  "kernelspec": {
   "display_name": "Python (vhi_env)",
   "language": "python",
   "name": "vhi_env"
  },
  "language_info": {
   "codemirror_mode": {
    "name": "ipython",
    "version": 3
   },
   "file_extension": ".py",
   "mimetype": "text/x-python",
   "name": "python",
   "nbconvert_exporter": "python",
   "pygments_lexer": "ipython3",
   "version": "3.11.0"
  }
 },
 "nbformat": 4,
 "nbformat_minor": 5
}
